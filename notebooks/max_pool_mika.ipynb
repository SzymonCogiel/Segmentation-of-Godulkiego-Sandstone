{
 "cells": [
  {
   "cell_type": "code",
   "execution_count": null,
   "id": "0e037f12",
   "metadata": {},
   "outputs": [],
   "source": [
    "import os\n",
    "import cv2\n",
    "import glob\n",
    "import matplotlib.pyplot as plt\n",
    "import numpy as np\n",
    "import pandas as pd\n",
    "import pickle\n",
    "from scipy import ndimage\n",
    "from numpy.random import seed\n",
    "\n",
    "import keras\n",
    "from keras.models import Sequential\n",
    "from keras.layers import Conv2D\n",
    "from keras.layers import BatchNormalization\n",
    "from keras.layers import MaxPooling2D\n",
    "from keras.layers import Flatten\n",
    "from keras.layers import Conv2DTranspose\n",
    "import tensorflow"
   ]
  },
  {
   "cell_type": "markdown",
   "id": "19f08826",
   "metadata": {},
   "source": [
    "# 1) Loading and preprocessing data"
   ]
  },
  {
   "cell_type": "code",
   "execution_count": null,
   "id": "e014f1a9",
   "metadata": {},
   "outputs": [],
   "source": [
    "# zawsze pamietać o seed\n",
    "tensorflow.random.set_seed(42)\n",
    "seed(42)"
   ]
  },
  {
   "cell_type": "code",
   "execution_count": null,
   "id": "171cda68",
   "metadata": {},
   "outputs": [],
   "source": [
    "# shape\n",
    "width = 968\n",
    "height = 1292\n",
    "\n",
    "# reaad only glaukolit\n",
    "skalka = 'glaukolit'\n",
    "all_glau = [i for i in glob.glob(os.getcwd() + '/maski/'+ '*{}*'.format(skalka))]\n",
    "\n",
    "# reaad only mika\n",
    "skalka = 'mika'\n",
    "all_mika = [i for i in glob.glob(os.getcwd() + '/maski/'+ '*{}*'.format(skalka))]"
   ]
  },
  {
   "cell_type": "code",
   "execution_count": null,
   "id": "e87549c4",
   "metadata": {},
   "outputs": [],
   "source": [
    "# nums files\n",
    "dif = []\n",
    "for filename in all_glau:\n",
    "    if filename[43] not in dif:\n",
    "        dif.append(filename[43])"
   ]
  },
  {
   "cell_type": "code",
   "execution_count": null,
   "id": "4176c442",
   "metadata": {},
   "outputs": [],
   "source": [
    "def writer(nums):\n",
    "    for num in nums:\n",
    "        mika = np.zeros((width, height), np.uint8)\n",
    "        glaukolit = np.zeros((width, height), np.uint8)\n",
    "        for filename in all_glau:\n",
    "            c = filename[43] \n",
    "            if c == num:\n",
    "                img = cv2.imread(filename, 0)\n",
    "                glaukolit = cv2.bitwise_or(glaukolit, img)\n",
    "        for filename in all_mika:\n",
    "            c = filename[43] \n",
    "            if c == num:\n",
    "                img = cv2.imread(filename, 0)\n",
    "                mika = cv2.bitwise_or(mika, img)\n",
    "        cv2.imwrite('masks/glaukolit_{}.tif'.format(num), glaukolit)\n",
    "        cv2.imwrite('masks/mika_{}.tif'.format(num), mika)"
   ]
  },
  {
   "cell_type": "code",
   "execution_count": null,
   "id": "821b83f0",
   "metadata": {},
   "outputs": [],
   "source": [
    "writer(dif)"
   ]
  },
  {
   "cell_type": "markdown",
   "id": "c0fcd369",
   "metadata": {},
   "source": [
    "# 2) Split data"
   ]
  },
  {
   "cell_type": "code",
   "execution_count": null,
   "id": "bf6af640",
   "metadata": {},
   "outputs": [],
   "source": [
    "train_masks  = []\n",
    "skalka = 'mika'\n",
    "mi = [i for i in glob.glob(os.getcwd() + '/masks/'+ '*{}*'.format(skalka))]\n",
    "for mask_path in mi:\n",
    "    mask = cv2.imread(mask_path, 0)\n",
    "    mask = cv2.resize(mask, (height, width))\n",
    "    thresh = 1\n",
    "    mask = cv2.threshold(mask, thresh, 255, cv2.THRESH_BINARY)[1]\n",
    "    train_masks.append(mask)"
   ]
  },
  {
   "cell_type": "code",
   "execution_count": null,
   "id": "38048ded",
   "metadata": {},
   "outputs": [],
   "source": [
    "train_masks = np.array(train_masks)\n",
    "train_masks[0].shape"
   ]
  },
  {
   "cell_type": "code",
   "execution_count": null,
   "id": "0eeb32bf",
   "metadata": {},
   "outputs": [],
   "source": [
    "train_images  = []\n",
    "im = [i for i in glob.glob(os.getcwd() + '/images/'+ '*.jpg')]\n",
    "del im[0]\n",
    "for img_path in im:\n",
    "    img = cv2.imread(img_path, cv2.IMREAD_COLOR)       \n",
    "    #img = cv2.resize(img, (SIZE, SIZE))\n",
    "    img = cv2.cvtColor(img, cv2.COLOR_RGB2BGR)\n",
    "    train_images.append(img)"
   ]
  },
  {
   "cell_type": "code",
   "execution_count": null,
   "id": "96c1693a",
   "metadata": {},
   "outputs": [],
   "source": [
    "train_images = np.array(train_images)"
   ]
  },
  {
   "cell_type": "code",
   "execution_count": null,
   "id": "0f808869",
   "metadata": {},
   "outputs": [],
   "source": [
    "len(train_images)"
   ]
  },
  {
   "cell_type": "code",
   "execution_count": null,
   "id": "be83a3be",
   "metadata": {},
   "outputs": [],
   "source": [
    "len(train_masks)"
   ]
  },
  {
   "cell_type": "markdown",
   "id": "5a46badd",
   "metadata": {},
   "source": [
    "# 3) Feature extractor"
   ]
  },
  {
   "cell_type": "code",
   "execution_count": null,
   "id": "fdc90522",
   "metadata": {},
   "outputs": [],
   "source": [
    "# model\n",
    "activation = 'sigmoid'\n",
    "feature_extractor = Sequential()\n",
    "\n",
    "feature_extractor.add(Conv2D(32, 3, activation = activation, padding = 'same', input_shape = (width, height, 3)))\n",
    "feature_extractor.add(Conv2D(32, 3, activation = activation, padding = 'same', kernel_initializer = 'he_uniform'))\n",
    "\n",
    "feature_extractor.add(Conv2D(64, 3, activation = activation, padding = 'same', kernel_initializer = 'he_uniform'))\n",
    "feature_extractor.add(BatchNormalization())\n",
    "\n",
    "feature_extractor.add(Conv2D(64, 3, activation = activation, padding = 'same', kernel_initializer = 'he_uniform'))\n",
    "feature_extractor.add(BatchNormalization())\n",
    "\n",
    "feature_extractor.add(MaxPooling2D(pool_size=(2, 2), strides=(2, 2)))\n",
    "feature_extractor.add(Conv2DTranspose(32, (2, 2), strides = (2, 2), padding = 'same'))"
   ]
  },
  {
   "cell_type": "code",
   "execution_count": null,
   "id": "148bf447",
   "metadata": {},
   "outputs": [],
   "source": [
    "X_train = train_images\n",
    "y_train = train_masks\n",
    "y_train = np.expand_dims(y_train, axis=3)"
   ]
  },
  {
   "cell_type": "code",
   "execution_count": null,
   "id": "f74664e4",
   "metadata": {},
   "outputs": [],
   "source": [
    "X = feature_extractor.predict(X_train)"
   ]
  },
  {
   "cell_type": "code",
   "execution_count": null,
   "id": "ff70964d",
   "metadata": {},
   "outputs": [],
   "source": [
    "feature_extractor.compile()"
   ]
  },
  {
   "cell_type": "code",
   "execution_count": null,
   "id": "cccd2fcb",
   "metadata": {},
   "outputs": [],
   "source": [
    "feature_extractor.save(\"extractor_mika.h5\")"
   ]
  },
  {
   "cell_type": "code",
   "execution_count": null,
   "id": "805620e5",
   "metadata": {},
   "outputs": [],
   "source": [
    "feature_extractor = keras.models.load_model(\"extractor_mika.h5\")"
   ]
  },
  {
   "cell_type": "code",
   "execution_count": null,
   "id": "6254fb0a",
   "metadata": {},
   "outputs": [],
   "source": [
    "feature_extractor.summary()"
   ]
  },
  {
   "cell_type": "code",
   "execution_count": null,
   "id": "19da70d1",
   "metadata": {},
   "outputs": [],
   "source": [
    "X = X.reshape(-1, X.shape[3])"
   ]
  },
  {
   "cell_type": "code",
   "execution_count": null,
   "id": "6b6d8ea0",
   "metadata": {},
   "outputs": [],
   "source": [
    "Y = y_train.reshape(-1)"
   ]
  },
  {
   "cell_type": "code",
   "execution_count": null,
   "id": "07435631",
   "metadata": {},
   "outputs": [],
   "source": [
    "dataset = pd.DataFrame(X)\n",
    "dataset['Label'] = Y\n",
    "print(dataset['Label'].unique())\n",
    "print(dataset['Label'].value_counts())"
   ]
  },
  {
   "cell_type": "code",
   "execution_count": null,
   "id": "3dfb4dd9",
   "metadata": {},
   "outputs": [],
   "source": [
    "X_for_RF = dataset.drop(labels = ['Label'], axis=1)\n",
    "Y_for_RF = dataset['Label']"
   ]
  },
  {
   "cell_type": "markdown",
   "id": "aa0bafc4",
   "metadata": {},
   "source": [
    "# 4) Model"
   ]
  },
  {
   "cell_type": "code",
   "execution_count": null,
   "id": "af7c0b2f",
   "metadata": {},
   "outputs": [],
   "source": [
    "from sklearn.ensemble import RandomForestClassifier\n",
    "from joblib import parallel_backend"
   ]
  },
  {
   "cell_type": "code",
   "execution_count": null,
   "id": "d0b8d0c1",
   "metadata": {},
   "outputs": [],
   "source": [
    "model = RandomForestClassifier(n_estimators = 50, max_depth=30, random_state = 42, n_jobs=-1, verbose=1)\n",
    "trained_model = model.fit(X, Y)"
   ]
  },
  {
   "cell_type": "code",
   "execution_count": null,
   "id": "82f32858",
   "metadata": {},
   "outputs": [],
   "source": [
    "filename = 'RF_model_mika.sav'\n",
    "pickle.dump(trained_model, open(filename, 'wb'))"
   ]
  },
  {
   "cell_type": "code",
   "execution_count": null,
   "id": "8821f57c",
   "metadata": {},
   "outputs": [],
   "source": [
    "trained_model = pickle.load(open('RF_model_mika.sav', 'rb'))"
   ]
  },
  {
   "cell_type": "code",
   "execution_count": null,
   "id": "997d72a7",
   "metadata": {},
   "outputs": [],
   "source": [
    "test_img = cv2.imread(\"test/19_240_XN.jpg\", cv2.IMREAD_COLOR) # 20_000_XN.jpg      11_180_XN.jpg    xn_180.bmp\n",
    "test_img = cv2.cvtColor(test_img, cv2.COLOR_RGB2BGR)\n",
    "plt.imshow(test_img)\n",
    "plt.show()\n",
    "test_img = np.expand_dims(test_img, axis=0)"
   ]
  },
  {
   "cell_type": "code",
   "execution_count": null,
   "id": "7380cc16",
   "metadata": {},
   "outputs": [],
   "source": [
    "X_test_feature = feature_extractor.predict(test_img)\n",
    "X_test_feature = X_test_feature.reshape(-1, X_test_feature.shape[3])"
   ]
  },
  {
   "cell_type": "code",
   "execution_count": null,
   "id": "34b3bbd7",
   "metadata": {},
   "outputs": [],
   "source": [
    "prediction = trained_model.predict(X_test_feature)"
   ]
  },
  {
   "cell_type": "code",
   "execution_count": null,
   "id": "a6a63989",
   "metadata": {},
   "outputs": [],
   "source": [
    "prediction_image = prediction.reshape(train_masks[0].shape)"
   ]
  },
  {
   "cell_type": "code",
   "execution_count": null,
   "id": "b5968098",
   "metadata": {},
   "outputs": [],
   "source": [
    "kernel = np.ones((3,3), np.uint8)\n",
    "imgDilation = cv2.dilate(prediction_image, kernel, iterations = 1)"
   ]
  },
  {
   "cell_type": "code",
   "execution_count": null,
   "id": "55a8e524",
   "metadata": {},
   "outputs": [],
   "source": [
    "plt.imshow(prediction_image, cmap='gray')\n",
    "plt.show()"
   ]
  },
  {
   "cell_type": "code",
   "execution_count": null,
   "id": "b1d6fa1e",
   "metadata": {},
   "outputs": [],
   "source": [
    "plt.imshow(imgDilation, cmap='gray')\n",
    "plt.show()"
   ]
  },
  {
   "cell_type": "code",
   "execution_count": null,
   "id": "ee32cad9",
   "metadata": {},
   "outputs": [],
   "source": [
    "filename = 'RF_model_mika.sav'\n",
    "pickle.dump(trained_model, open(filename, 'wb'))"
   ]
  },
  {
   "cell_type": "code",
   "execution_count": null,
   "id": "73a966db",
   "metadata": {},
   "outputs": [],
   "source": [
    "imgDilation2 = ndimage.median_filter(imgDilation, size=3)"
   ]
  },
  {
   "cell_type": "code",
   "execution_count": null,
   "id": "8003fc23",
   "metadata": {},
   "outputs": [],
   "source": [
    "plt.imshow(imgDilation2, cmap='gray')\n",
    "plt.show()"
   ]
  },
  {
   "cell_type": "code",
   "execution_count": null,
   "id": "1f128b09",
   "metadata": {},
   "outputs": [],
   "source": [
    "cv2.imwrite('mika.tif', imgDilation2)"
   ]
  },
  {
   "cell_type": "code",
   "execution_count": null,
   "id": "f2371876",
   "metadata": {},
   "outputs": [],
   "source": [
    "m1 = cv2.imread('mika.tif', 0)\n",
    "g1 = cv2.imread('glau.tif', 0)\n",
    "k1 = cv2.imread('kawrc.tif', 0)"
   ]
  },
  {
   "cell_type": "code",
   "execution_count": null,
   "id": "36360ea6",
   "metadata": {},
   "outputs": [],
   "source": [
    "m1[m1 == 255] = 75\n",
    "g1[g1 == 255] = 150"
   ]
  },
  {
   "cell_type": "code",
   "execution_count": null,
   "id": "87725e22",
   "metadata": {
    "scrolled": true
   },
   "outputs": [],
   "source": [
    "results = k1 + g1 + m1"
   ]
  },
  {
   "cell_type": "code",
   "execution_count": null,
   "id": "02394cdb",
   "metadata": {
    "scrolled": false
   },
   "outputs": [],
   "source": [
    "plt.imshow(results)"
   ]
  }
 ],
 "metadata": {
  "kernelspec": {
   "display_name": "Python 3 (ipykernel)",
   "language": "python",
   "name": "python3"
  },
  "language_info": {
   "codemirror_mode": {
    "name": "ipython",
    "version": 3
   },
   "file_extension": ".py",
   "mimetype": "text/x-python",
   "name": "python",
   "nbconvert_exporter": "python",
   "pygments_lexer": "ipython3",
   "version": "3.9.2"
  }
 },
 "nbformat": 4,
 "nbformat_minor": 5
}

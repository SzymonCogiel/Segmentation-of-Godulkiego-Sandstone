{
 "cells": [
  {
   "cell_type": "code",
   "execution_count": null,
   "id": "c8c8ac5b",
   "metadata": {},
   "outputs": [],
   "source": [
    "import os\n",
    "import cv2\n",
    "import glob\n",
    "import matplotlib.pyplot as plt\n",
    "import numpy as np\n",
    "import pandas as pd\n",
    "import pickle\n",
    "from scipy import ndimage\n",
    "\n",
    "import keras\n",
    "from keras.models import Sequential\n",
    "from keras.layers import Conv2D\n",
    "from keras.layers import BatchNormalization\n",
    "from keras.layers import MaxPooling2D\n",
    "from keras.layers import Flatten\n",
    "from keras.layers import Conv2DTranspose"
   ]
  },
  {
   "cell_type": "code",
   "execution_count": null,
   "id": "ecf59cc2",
   "metadata": {},
   "outputs": [],
   "source": [
    "from numpy.random import seed"
   ]
  },
  {
   "cell_type": "code",
   "execution_count": null,
   "id": "ce4adf3b",
   "metadata": {},
   "outputs": [],
   "source": [
    "import tensorflow"
   ]
  },
  {
   "cell_type": "code",
   "execution_count": null,
   "id": "20a9fc4e",
   "metadata": {},
   "outputs": [],
   "source": [
    "# zawsze pamietać o seed\n",
    "tensorflow.random.set_seed(42)\n",
    "seed(42)"
   ]
  },
  {
   "cell_type": "code",
   "execution_count": null,
   "id": "074dfb5e",
   "metadata": {},
   "outputs": [],
   "source": [
    "# shape\n",
    "width = 968\n",
    "height = 1292\n",
    "\n",
    "# reaad only glaukolit\n",
    "skalka = 'glaukolit'\n",
    "all_glau = [i for i in glob.glob(os.getcwd() + '/maski/'+ '*{}*'.format(skalka))]\n",
    "\n",
    "# reaad only mika\n",
    "skalka = 'mika'\n",
    "all_mika = [i for i in glob.glob(os.getcwd() + '/maski/'+ '*{}*'.format(skalka))]\n",
    "\n",
    "# reaad only mika\n",
    "skalka = 'kwarc'\n",
    "all_kwarc = [i for i in glob.glob(os.getcwd() + '/maski/'+ '*{}*'.format(skalka))]"
   ]
  },
  {
   "cell_type": "code",
   "execution_count": null,
   "id": "55fbfb0a",
   "metadata": {},
   "outputs": [],
   "source": [
    "# nums files\n",
    "dif = []\n",
    "for filename in all_glau:\n",
    "    if filename[43] not in dif:\n",
    "        dif.append(filename[43])"
   ]
  },
  {
   "cell_type": "code",
   "execution_count": null,
   "id": "91a14fe1",
   "metadata": {},
   "outputs": [],
   "source": [
    "def writer(nums):\n",
    "    for num in nums:\n",
    "        mika = np.zeros((width, height), np.uint8)\n",
    "        glaukolit = np.zeros((width, height), np.uint8)\n",
    "        kwarc = np.zeros((width, height), np.uint8)\n",
    "        for filename in all_glau:\n",
    "            c = filename[43] \n",
    "            if c == num:\n",
    "                img = cv2.imread(filename, 0)\n",
    "                glaukolit = cv2.bitwise_or(glaukolit, img)\n",
    "        for filename in all_mika:\n",
    "            c = filename[43] \n",
    "            if c == num:\n",
    "                img = cv2.imread(filename, 0)\n",
    "                mika = cv2.bitwise_or(mika, img)\n",
    "        for filename in all_kwarc:\n",
    "            c = filename[43] \n",
    "            if c == num:\n",
    "                img = cv2.imread(filename, 0)\n",
    "                kwarc = cv2.bitwise_or(kwarc, img)\n",
    "        cv2.imwrite('masks/glaukolit_{}.tif'.format(num), glaukolit)\n",
    "        cv2.imwrite('masks/mika_{}.tif'.format(num), mika)\n",
    "        cv2.imwrite('masks/kwarc_{}.tif'.format(num), kwarc)"
   ]
  },
  {
   "cell_type": "code",
   "execution_count": null,
   "id": "e4c219c8",
   "metadata": {},
   "outputs": [],
   "source": [
    "writer(dif)"
   ]
  },
  {
   "cell_type": "code",
   "execution_count": null,
   "id": "10f5420c",
   "metadata": {},
   "outputs": [],
   "source": [
    "train_masks  = []\n",
    "skalka = 'glaukolit'\n",
    "mi = [i for i in glob.glob(os.getcwd() + '/masks/'+ '*{}*'.format(skalka))]\n",
    "for mask_path in mi:\n",
    "    mask = cv2.imread(mask_path, 0)\n",
    "    mask = cv2.resize(mask, (height, width))\n",
    "    thresh = 1\n",
    "    mask = cv2.threshold(mask, thresh, 255, cv2.THRESH_BINARY)[1]\n",
    "    train_masks.append(mask)"
   ]
  },
  {
   "cell_type": "code",
   "execution_count": null,
   "id": "4945b218",
   "metadata": {},
   "outputs": [],
   "source": [
    "train_masks = np.array(train_masks)"
   ]
  },
  {
   "cell_type": "code",
   "execution_count": null,
   "id": "1f395975",
   "metadata": {},
   "outputs": [],
   "source": [
    "train_images  = []\n",
    "im = [i for i in glob.glob(os.getcwd() + '/images/'+ '*.jpg')]\n",
    "del im[0]\n",
    "for img_path in im:\n",
    "    img = cv2.imread(img_path, cv2.IMREAD_COLOR)       \n",
    "    #img = cv2.resize(img, (SIZE, SIZE))\n",
    "    img = cv2.cvtColor(img, cv2.COLOR_RGB2BGR)\n",
    "    train_images.append(img)"
   ]
  },
  {
   "cell_type": "code",
   "execution_count": null,
   "id": "57f61e36",
   "metadata": {},
   "outputs": [],
   "source": [
    "len(train_images)"
   ]
  },
  {
   "cell_type": "code",
   "execution_count": null,
   "id": "72fc6b05",
   "metadata": {},
   "outputs": [],
   "source": [
    "len(train_masks)"
   ]
  },
  {
   "cell_type": "code",
   "execution_count": null,
   "id": "f8a1436d",
   "metadata": {},
   "outputs": [],
   "source": [
    "train_images = np.array(train_images)"
   ]
  },
  {
   "cell_type": "code",
   "execution_count": null,
   "id": "d72c9068",
   "metadata": {},
   "outputs": [],
   "source": [
    "# model\n",
    "activation = 'sigmoid'\n",
    "feature_extractor = Sequential()\n",
    "\n",
    "feature_extractor.add(Conv2D(32, 3, activation = activation, padding = 'same', input_shape = (width, height, 3)))\n",
    "feature_extractor.add(Conv2D(32, 3, activation = activation, padding = 'same', kernel_initializer = 'he_uniform'))"
   ]
  },
  {
   "cell_type": "code",
   "execution_count": null,
   "id": "c3d595e4",
   "metadata": {},
   "outputs": [],
   "source": [
    "X_train = train_images\n",
    "y_train = train_masks\n",
    "y_train = np.expand_dims(y_train, axis=3)"
   ]
  },
  {
   "cell_type": "code",
   "execution_count": null,
   "id": "3533b35e",
   "metadata": {},
   "outputs": [],
   "source": [
    "X = feature_extractor.predict(X_train)"
   ]
  },
  {
   "cell_type": "code",
   "execution_count": null,
   "id": "9a38f8b8",
   "metadata": {},
   "outputs": [],
   "source": [
    "feature_extractor.compile()"
   ]
  },
  {
   "cell_type": "code",
   "execution_count": null,
   "id": "da0ed38a",
   "metadata": {},
   "outputs": [],
   "source": [
    "feature_extractor.save(\"extractor_glauk.h5\")"
   ]
  },
  {
   "cell_type": "code",
   "execution_count": null,
   "id": "5918fb4e",
   "metadata": {},
   "outputs": [],
   "source": [
    "feature_extractor = keras.models.load_model(\"extractor_glauk.h5\")"
   ]
  },
  {
   "cell_type": "code",
   "execution_count": null,
   "id": "cec98609",
   "metadata": {},
   "outputs": [],
   "source": [
    "feature_extractor.variables"
   ]
  },
  {
   "cell_type": "code",
   "execution_count": null,
   "id": "251c7d71",
   "metadata": {},
   "outputs": [],
   "source": [
    "feature_extractor.summary()"
   ]
  },
  {
   "cell_type": "code",
   "execution_count": null,
   "id": "aa67d2b4",
   "metadata": {},
   "outputs": [],
   "source": [
    "X = X.reshape(-1, X.shape[3])"
   ]
  },
  {
   "cell_type": "code",
   "execution_count": null,
   "id": "331d8e9b",
   "metadata": {},
   "outputs": [],
   "source": [
    "Y = y_train.reshape(-1)"
   ]
  },
  {
   "cell_type": "code",
   "execution_count": null,
   "id": "857b16b5",
   "metadata": {},
   "outputs": [],
   "source": [
    "Y"
   ]
  },
  {
   "cell_type": "code",
   "execution_count": null,
   "id": "14cd8c5b",
   "metadata": {},
   "outputs": [],
   "source": [
    "dataset = pd.DataFrame(X)\n",
    "dataset['Label'] = Y\n",
    "print(dataset['Label'].unique())\n",
    "print(dataset['Label'].value_counts())"
   ]
  },
  {
   "cell_type": "code",
   "execution_count": null,
   "id": "b82b177e",
   "metadata": {},
   "outputs": [],
   "source": [
    "X_for_RF = dataset.drop(labels = ['Label'], axis=1)\n",
    "Y_for_RF = dataset['Label']"
   ]
  },
  {
   "cell_type": "code",
   "execution_count": null,
   "id": "cfbb1721",
   "metadata": {},
   "outputs": [],
   "source": [
    "from sklearn.ensemble import RandomForestClassifier\n",
    "from joblib import parallel_backend"
   ]
  },
  {
   "cell_type": "code",
   "execution_count": null,
   "id": "2e97d5d7",
   "metadata": {},
   "outputs": [],
   "source": [
    "model = RandomForestClassifier(n_estimators = 50, max_depth=30, random_state = 42, n_jobs=-1, verbose=1)\n",
    "trained_model = model.fit(X, Y)"
   ]
  },
  {
   "cell_type": "code",
   "execution_count": null,
   "id": "4bed95da",
   "metadata": {},
   "outputs": [],
   "source": [
    "filename = 'RF_model_glau.sav'\n",
    "pickle.dump(trained_model, open(filename, 'wb'))"
   ]
  },
  {
   "cell_type": "code",
   "execution_count": null,
   "id": "07622b15",
   "metadata": {},
   "outputs": [],
   "source": [
    "trained_model = pickle.load(open('RF_model_glau.sav', 'rb'))"
   ]
  },
  {
   "cell_type": "code",
   "execution_count": null,
   "id": "f30a510c",
   "metadata": {},
   "outputs": [],
   "source": [
    "test_img = cv2.imread(\"test/19_240_XN.jpg \", cv2.IMREAD_COLOR) # 20_000_XN.jpg      11_180_XN.jpg     \n",
    "# 30_180_XN.jpg    13_180_XN.jpg\n",
    "test_img = cv2.cvtColor(test_img, cv2.COLOR_RGB2BGR)\n",
    "plt.imshow(test_img)\n",
    "plt.show()\n",
    "test_img = np.expand_dims(test_img, axis=0)"
   ]
  },
  {
   "cell_type": "code",
   "execution_count": null,
   "id": "ae02eafb",
   "metadata": {},
   "outputs": [],
   "source": [
    "X_test_feature = feature_extractor.predict(test_img)\n",
    "X_test_feature = X_test_feature.reshape(-1, X_test_feature.shape[3])"
   ]
  },
  {
   "cell_type": "code",
   "execution_count": null,
   "id": "d93b0978",
   "metadata": {},
   "outputs": [],
   "source": [
    "prediction = trained_model.predict(X_test_feature)"
   ]
  },
  {
   "cell_type": "code",
   "execution_count": null,
   "id": "48ac203e",
   "metadata": {},
   "outputs": [],
   "source": [
    "prediction_image = prediction.reshape(train_masks[0].shape)"
   ]
  },
  {
   "cell_type": "code",
   "execution_count": null,
   "id": "5038a424",
   "metadata": {},
   "outputs": [],
   "source": [
    "kernel = np.ones((3,3), np.uint8)\n",
    "imgDilation = cv2.dilate(prediction_image, kernel, iterations = 1)"
   ]
  },
  {
   "cell_type": "code",
   "execution_count": null,
   "id": "5e27d662",
   "metadata": {},
   "outputs": [],
   "source": [
    "plt.imshow(prediction_image, cmap='gray')\n",
    "plt.show()"
   ]
  },
  {
   "cell_type": "code",
   "execution_count": null,
   "id": "e2a5e290",
   "metadata": {},
   "outputs": [],
   "source": [
    "plt.imshow(imgDilation, cmap='gray')\n",
    "plt.show()"
   ]
  },
  {
   "cell_type": "code",
   "execution_count": null,
   "id": "22c06971",
   "metadata": {},
   "outputs": [],
   "source": [
    "imgDilation2 = ndimage.median_filter(imgDilation, size=3)"
   ]
  },
  {
   "cell_type": "code",
   "execution_count": null,
   "id": "d9866383",
   "metadata": {},
   "outputs": [],
   "source": [
    "plt.imshow(imgDilation2, cmap='gray')\n",
    "plt.show()"
   ]
  },
  {
   "cell_type": "code",
   "execution_count": null,
   "id": "56e0cdd0",
   "metadata": {},
   "outputs": [],
   "source": [
    "cv2.imwrite('glau.tif', imgDilation2)"
   ]
  }
 ],
 "metadata": {
  "kernelspec": {
   "display_name": "Python 3 (ipykernel)",
   "language": "python",
   "name": "python3"
  },
  "language_info": {
   "codemirror_mode": {
    "name": "ipython",
    "version": 3
   },
   "file_extension": ".py",
   "mimetype": "text/x-python",
   "name": "python",
   "nbconvert_exporter": "python",
   "pygments_lexer": "ipython3",
   "version": "3.9.2"
  }
 },
 "nbformat": 4,
 "nbformat_minor": 5
}

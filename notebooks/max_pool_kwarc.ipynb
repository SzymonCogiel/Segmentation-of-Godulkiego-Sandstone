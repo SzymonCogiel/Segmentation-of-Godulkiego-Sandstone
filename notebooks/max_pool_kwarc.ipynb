{
 "cells": [
  {
   "cell_type": "code",
   "execution_count": null,
   "id": "63ae13e8",
   "metadata": {},
   "outputs": [],
   "source": [
    "import os\n",
    "import cv2\n",
    "import glob\n",
    "import matplotlib.pyplot as plt\n",
    "import numpy as np\n",
    "import pandas as pd\n",
    "import pickle\n",
    "from scipy import ndimage\n",
    "from numpy.random import seed\n",
    "\n",
    "import keras\n",
    "from keras.models import Sequential\n",
    "from keras.layers import Conv2D\n",
    "from keras.layers import BatchNormalization\n",
    "from keras.layers import MaxPooling2D\n",
    "from keras.layers import Flatten\n",
    "from keras.layers import Conv2DTranspose\n",
    "import tensorflow"
   ]
  },
  {
   "cell_type": "code",
   "execution_count": null,
   "id": "ebf92b29",
   "metadata": {},
   "outputs": [],
   "source": [
    "import visualkeras\n",
    "from keras.utils.vis_utils import plot_model"
   ]
  },
  {
   "cell_type": "markdown",
   "id": "f26475cd",
   "metadata": {},
   "source": [
    "# 1) Loading and preprocessing data"
   ]
  },
  {
   "cell_type": "code",
   "execution_count": null,
   "id": "4afeac56",
   "metadata": {},
   "outputs": [],
   "source": [
    "# zawsze pamietać o seed\n",
    "tensorflow.random.set_seed(42)\n",
    "seed(42)"
   ]
  },
  {
   "cell_type": "code",
   "execution_count": null,
   "id": "b8fa4337",
   "metadata": {},
   "outputs": [],
   "source": [
    "# shape\n",
    "width = 968\n",
    "height = 1292\n",
    "\n",
    "# reaad only glaukolit\n",
    "skalka = 'glaukolit'\n",
    "all_glau = [i for i in glob.glob(os.getcwd() + '/maski/'+ '*{}*'.format(skalka))]\n",
    "\n",
    "# reaad only mika\n",
    "skalka = 'mika'\n",
    "all_mika = [i for i in glob.glob(os.getcwd() + '/maski/'+ '*{}*'.format(skalka))]\n",
    "\n",
    "# reaad only kwarc\n",
    "skalka = 'kwarc'\n",
    "all_kwarc = [i for i in glob.glob(os.getcwd() + '/maski/'+ '*{}*'.format(skalka))]"
   ]
  },
  {
   "cell_type": "code",
   "execution_count": null,
   "id": "1c338db8",
   "metadata": {},
   "outputs": [],
   "source": [
    "# nums files\n",
    "dif = []\n",
    "for filename in all_kwarc:\n",
    "    if filename[43] not in dif:\n",
    "        dif.append(filename[43])"
   ]
  },
  {
   "cell_type": "code",
   "execution_count": null,
   "id": "3fc6044b",
   "metadata": {},
   "outputs": [],
   "source": [
    "def writer(nums):\n",
    "    for num in nums:\n",
    "        mika = np.zeros((width, height), np.uint8)\n",
    "        glaukolit = np.zeros((width, height), np.uint8)\n",
    "        kwarc = np.zeros((width, height), np.uint8)\n",
    "        for filename in all_glau:\n",
    "            c = filename[43] \n",
    "            if c == num:\n",
    "                img = cv2.imread(filename, 0)\n",
    "                glaukolit = cv2.bitwise_or(glaukolit, img)\n",
    "        for filename in all_mika:\n",
    "            c = filename[43] \n",
    "            if c == num:\n",
    "                img = cv2.imread(filename, 0)\n",
    "                mika = cv2.bitwise_or(mika, img)\n",
    "        for filename in all_kwarc:\n",
    "            c = filename[43] \n",
    "            if c == num:\n",
    "                img = cv2.imread(filename, 0)\n",
    "                kwarc = cv2.bitwise_or(kwarc, img)\n",
    "        cv2.imwrite('masks/glaukolit_{}.tif'.format(num), glaukolit)\n",
    "        cv2.imwrite('masks/mika_{}.tif'.format(num), mika)\n",
    "        cv2.imwrite('masks/kwarc_{}.tif'.format(num), kwarc)"
   ]
  },
  {
   "cell_type": "code",
   "execution_count": null,
   "id": "d1c7c467",
   "metadata": {},
   "outputs": [],
   "source": [
    "writer(dif)"
   ]
  },
  {
   "cell_type": "code",
   "execution_count": null,
   "id": "d3c5a772",
   "metadata": {},
   "outputs": [],
   "source": [
    "train_masks  = []\n",
    "skalka = 'kwarc'\n",
    "mi = [i for i in glob.glob(os.getcwd() + '/masks/'+ '*{}*'.format(skalka))]\n",
    "for mask_path in mi:\n",
    "    mask = cv2.imread(mask_path, 0)\n",
    "    mask = cv2.resize(mask, (height, width))\n",
    "    thresh = 1\n",
    "    mask = cv2.threshold(mask, thresh, 255, cv2.THRESH_BINARY)[1]\n",
    "    train_masks.append(mask)"
   ]
  },
  {
   "cell_type": "code",
   "execution_count": null,
   "id": "c9ed5f5b",
   "metadata": {},
   "outputs": [],
   "source": [
    "train_masks = np.array(train_masks)"
   ]
  },
  {
   "cell_type": "code",
   "execution_count": null,
   "id": "128a0f1f",
   "metadata": {},
   "outputs": [],
   "source": [
    "train_images  = []\n",
    "im = [i for i in glob.glob(os.getcwd() + '/images/'+ '*.jpg')]\n",
    "im = [i for i in im if i[39] in dif]\n",
    "im.insert(0, 'C:\\\\Users\\\\szymi\\\\Desktop\\\\Img_proj/images\\\\1.jpg')\n",
    "for img_path in im:\n",
    "    img = cv2.imread(img_path, cv2.IMREAD_COLOR)       \n",
    "    #img = cv2.resize(img, (SIZE, SIZE))\n",
    "    img = cv2.cvtColor(img, cv2.COLOR_RGB2BGR)\n",
    "    train_images.append(img)"
   ]
  },
  {
   "cell_type": "code",
   "execution_count": null,
   "id": "b2f3ec87",
   "metadata": {},
   "outputs": [],
   "source": [
    "train_images = np.array(train_images)"
   ]
  },
  {
   "cell_type": "code",
   "execution_count": null,
   "id": "8aadd03e",
   "metadata": {},
   "outputs": [],
   "source": [
    "# model\n",
    "activation = 'sigmoid'\n",
    "feature_extractor = Sequential()\n",
    "\n",
    "\n",
    "# width = 150\n",
    "# height = 150\n",
    "feature_extractor.add(Conv2D(32, 3, activation = activation, padding = 'same', input_shape = (width, height, 3)))\n",
    "feature_extractor.add(Conv2D(32, 3, activation = activation, padding = 'same', kernel_initializer = 'he_uniform'))\n",
    "\n",
    "feature_extractor.add(Conv2D(64, 3, activation = activation, padding = 'same', kernel_initializer = 'he_uniform'))\n",
    "feature_extractor.add(BatchNormalization())\n",
    "\n",
    "feature_extractor.add(Conv2D(64, 3, activation = activation, padding = 'same', kernel_initializer = 'he_uniform'))\n",
    "feature_extractor.add(BatchNormalization())\n",
    "\n",
    "feature_extractor.add(MaxPooling2D(pool_size=(2, 2), strides=(2, 2)))\n",
    "feature_extractor.add(Conv2DTranspose(32, (2, 2), strides = (2, 2), padding = 'same'))"
   ]
  },
  {
   "cell_type": "code",
   "execution_count": null,
   "id": "f33ac98f",
   "metadata": {},
   "outputs": [],
   "source": [
    "X_train = train_images\n",
    "y_train = train_masks\n",
    "y_train = np.expand_dims(y_train, axis=3)"
   ]
  },
  {
   "cell_type": "code",
   "execution_count": null,
   "id": "def339d7",
   "metadata": {},
   "outputs": [],
   "source": [
    "X = feature_extractor.predict(X_train)"
   ]
  },
  {
   "cell_type": "code",
   "execution_count": null,
   "id": "ba3247fc",
   "metadata": {},
   "outputs": [],
   "source": [
    "feature_extractor.compile()"
   ]
  },
  {
   "cell_type": "code",
   "execution_count": null,
   "id": "b7f37587",
   "metadata": {},
   "outputs": [],
   "source": [
    "feature_extractor.save(\"extractor_kwarc.h5\")"
   ]
  },
  {
   "cell_type": "code",
   "execution_count": null,
   "id": "53f7f801",
   "metadata": {},
   "outputs": [],
   "source": [
    "feature_extractor = keras.models.load_model(\"extractor_kwarc.h5\")"
   ]
  },
  {
   "cell_type": "code",
   "execution_count": null,
   "id": "5debc85b",
   "metadata": {},
   "outputs": [],
   "source": [
    "feature_extractor.summary()"
   ]
  },
  {
   "cell_type": "code",
   "execution_count": null,
   "id": "f6e97a9a",
   "metadata": {},
   "outputs": [],
   "source": [
    "feature_extractor.variables"
   ]
  },
  {
   "cell_type": "code",
   "execution_count": null,
   "id": "64ae3d4b",
   "metadata": {},
   "outputs": [],
   "source": [
    "X = X.reshape(-1, X.shape[3])"
   ]
  },
  {
   "cell_type": "code",
   "execution_count": null,
   "id": "4c9bd5b6",
   "metadata": {},
   "outputs": [],
   "source": [
    "Y = y_train.reshape(-1)"
   ]
  },
  {
   "cell_type": "code",
   "execution_count": null,
   "id": "7119259e",
   "metadata": {},
   "outputs": [],
   "source": [
    "Y"
   ]
  },
  {
   "cell_type": "code",
   "execution_count": null,
   "id": "041f0efb",
   "metadata": {},
   "outputs": [],
   "source": [
    "dataset = pd.DataFrame(X)\n",
    "dataset['Label'] = Y\n",
    "print(dataset['Label'].unique())\n",
    "print(dataset['Label'].value_counts())"
   ]
  },
  {
   "cell_type": "code",
   "execution_count": null,
   "id": "b7d5e428",
   "metadata": {},
   "outputs": [],
   "source": [
    "X_for_RF = dataset.drop(labels = ['Label'], axis=1)\n",
    "Y_for_RF = dataset['Label']"
   ]
  },
  {
   "cell_type": "code",
   "execution_count": null,
   "id": "ea399d48",
   "metadata": {},
   "outputs": [],
   "source": [
    "from sklearn.ensemble import RandomForestClassifier\n",
    "from joblib import parallel_backend"
   ]
  },
  {
   "cell_type": "code",
   "execution_count": null,
   "id": "b21ef85f",
   "metadata": {},
   "outputs": [],
   "source": [
    "model = RandomForestClassifier(n_estimators = 50, max_depth=30, random_state = 42, n_jobs=-1, verbose=1)\n",
    "trained_model = model.fit(X, Y)"
   ]
  },
  {
   "cell_type": "code",
   "execution_count": null,
   "id": "faee0cfa",
   "metadata": {},
   "outputs": [],
   "source": [
    "filename = 'RF_model_kwarc.sav'\n",
    "pickle.dump(trained_model, open(filename, 'wb'))"
   ]
  },
  {
   "cell_type": "code",
   "execution_count": null,
   "id": "cf04c340",
   "metadata": {},
   "outputs": [],
   "source": [
    "trained_model = pickle.load(open('RF_model_kwarc.sav', 'rb'))"
   ]
  },
  {
   "cell_type": "code",
   "execution_count": null,
   "id": "9de1c71c",
   "metadata": {},
   "outputs": [],
   "source": [
    "test_img = cv2.imread(\"test/19_240_XN.jpg\", cv2.IMREAD_COLOR) # 20_000_XN.jpg      11_180_XN.jpg    xn_180.bmp\n",
    "test_img = cv2.cvtColor(test_img, cv2.COLOR_RGB2BGR)\n",
    "plt.imshow(test_img)\n",
    "plt.show()\n",
    "test_img = np.expand_dims(test_img, axis=0)"
   ]
  },
  {
   "cell_type": "code",
   "execution_count": null,
   "id": "b300eb20",
   "metadata": {},
   "outputs": [],
   "source": [
    "X_test_feature = feature_extractor.predict(test_img)\n",
    "X_test_feature = X_test_feature.reshape(-1, X_test_feature.shape[3])"
   ]
  },
  {
   "cell_type": "code",
   "execution_count": null,
   "id": "9d2d7cfc",
   "metadata": {},
   "outputs": [],
   "source": [
    "prediction = trained_model.predict(X_test_feature)"
   ]
  },
  {
   "cell_type": "code",
   "execution_count": null,
   "id": "c19519ad",
   "metadata": {},
   "outputs": [],
   "source": [
    "prediction_image = prediction.reshape(train_masks[0].shape)"
   ]
  },
  {
   "cell_type": "code",
   "execution_count": null,
   "id": "f6d0eeb5",
   "metadata": {},
   "outputs": [],
   "source": [
    "kernel = np.ones((3,3), np.uint8)\n",
    "imgDilation = cv2.dilate(prediction_image, kernel, iterations = 1)"
   ]
  },
  {
   "cell_type": "code",
   "execution_count": null,
   "id": "abf81023",
   "metadata": {},
   "outputs": [],
   "source": [
    "plt.imshow(prediction_image, cmap='gray')\n",
    "plt.show()"
   ]
  },
  {
   "cell_type": "code",
   "execution_count": null,
   "id": "17c2356a",
   "metadata": {},
   "outputs": [],
   "source": [
    "plt.imshow(imgDilation, cmap='gray')\n",
    "plt.show()"
   ]
  },
  {
   "cell_type": "code",
   "execution_count": null,
   "id": "f7c1f98a",
   "metadata": {},
   "outputs": [],
   "source": [
    "cv2.imwrite('kawrc.tif', prediction_image)"
   ]
  }
 ],
 "metadata": {
  "kernelspec": {
   "display_name": "Python 3 (ipykernel)",
   "language": "python",
   "name": "python3"
  },
  "language_info": {
   "codemirror_mode": {
    "name": "ipython",
    "version": 3
   },
   "file_extension": ".py",
   "mimetype": "text/x-python",
   "name": "python",
   "nbconvert_exporter": "python",
   "pygments_lexer": "ipython3",
   "version": "3.9.2"
  }
 },
 "nbformat": 4,
 "nbformat_minor": 5
}
